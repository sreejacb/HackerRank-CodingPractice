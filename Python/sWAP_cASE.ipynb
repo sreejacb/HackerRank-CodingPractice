{
 "cells": [
  {
   "cell_type": "code",
   "execution_count": 10,
   "metadata": {},
   "outputs": [
    {
     "name": "stdout",
     "output_type": "stream",
     "text": [
      "String        :  HeLLo...!!!\n",
      "Swapped string:  hEllO...!!!\n"
     ]
    }
   ],
   "source": [
    "def swap_case(s):\n",
    "    capital =['A','B','C','D','E','F','G','H','I','J','K','L'\n",
    "  ,'M','N','O','P','Q','R','S','T','U','V','W','X','Y','Z']\n",
    "    small= ['a','b','c','d','e','f','g','h','i','j','k','l'\n",
    "  ,'m','n','o','p','q','r','s','t','u','v','w','x','y','z']\n",
    "    swapped=''\n",
    "  \n",
    "    for i in s:\n",
    "        if i in small:\n",
    "            ind_ex = small.index(i)\n",
    "            swapped+=(capital[ind_ex])\n",
    "        elif i in capital:  \n",
    "            ind_ex2 = capital.index(i)\n",
    "            swapped+=(small[ind_ex2])  \n",
    "            \n",
    "        else:\n",
    "            swapped+=i  \n",
    "\n",
    "    return(swapped)  \n",
    "\n",
    "if __name__ == '__main__':\n",
    "    s = input()\n",
    "    result = swap_case(s)\n",
    "    print('String        : ',s)\n",
    "    print('Swapped string: ',result)\n",
    "    "
   ]
  }
 ],
 "metadata": {
  "kernelspec": {
   "display_name": "Python 3",
   "language": "python",
   "name": "python3"
  },
  "language_info": {
   "codemirror_mode": {
    "name": "ipython",
    "version": 3
   },
   "file_extension": ".py",
   "mimetype": "text/x-python",
   "name": "python",
   "nbconvert_exporter": "python",
   "pygments_lexer": "ipython3",
   "version": "3.10.5"
  },
  "orig_nbformat": 4
 },
 "nbformat": 4,
 "nbformat_minor": 2
}
